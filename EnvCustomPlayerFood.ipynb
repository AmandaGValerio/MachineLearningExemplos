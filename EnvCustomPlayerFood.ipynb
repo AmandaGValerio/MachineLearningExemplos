{
 "cells": [
  {
   "cell_type": "markdown",
   "id": "e8a9ab5a",
   "metadata": {},
   "source": [
    "# Environment Custom\n",
    "\n",
    "Códigos aprendidos no tutorial: https://www.youtube.com/watch?v=G92TF4xYQcU&list=PLQVvvaa0QuDezJFIOU5wDdfy4e9vdnx-7&index=4"
   ]
  },
  {
   "cell_type": "code",
   "execution_count": 1,
   "id": "a2db9fce",
   "metadata": {},
   "outputs": [],
   "source": [
    "#!pip install opencv-python\n",
    "#!pip install pillow"
   ]
  },
  {
   "cell_type": "code",
   "execution_count": 7,
   "id": "41046bdf",
   "metadata": {},
   "outputs": [],
   "source": [
    "import numpy as np\n",
    "from PIL import Image\n",
    "import cv2\n",
    "import matplotlib.pyplot as plt\n",
    "from matplotlib import style\n",
    "import pickle\n",
    "import time"
   ]
  },
  {
   "cell_type": "code",
   "execution_count": 8,
   "id": "f1ae439d",
   "metadata": {},
   "outputs": [],
   "source": [
    "style.use(\"ggplot\")\n",
    "\n",
    "SIZE = 10\n",
    "HM_EPISODES = 25000\n",
    "MOVE_PENALTY = 1\n",
    "ENEMY_PENALTY = 300\n",
    "FOOD_REWARD = 25\n",
    "epsilon = 0.9\n",
    "EPS_DEACY = 0.9998\n",
    "SHOW_EVERY = 3000\n",
    "\n",
    "start_q_table = None #or filename\n",
    "\n",
    "LEARNING_RATE = 0.1\n",
    "DISCOUNT = 0.95\n",
    "\n",
    "PLAYER_N = 1\n",
    "FOOD_N = 2\n",
    "ENEMY_N = 3\n",
    "\n",
    "d = {1: (255, 175, 0),\n",
    "    2: (0, 255, 0),\n",
    "    3: (0, 0, 255)}\n",
    "\n",
    "episode_rewards = []"
   ]
  },
  {
   "cell_type": "code",
   "execution_count": 9,
   "id": "5ea57640",
   "metadata": {},
   "outputs": [],
   "source": [
    "class Blob():\n",
    "    \n",
    "    def __init__(self):\n",
    "        self.x = np.random.randint(0, SIZE)\n",
    "        self.y = np.random.randint(0, SIZE)\n",
    "        \n",
    "    def __str__(self):\n",
    "        return f\"{self.x},{self.y}\"\n",
    "    \n",
    "    def __sub__(self, other):\n",
    "        return (self.x - other.x, self.y - other.y)\n",
    "    \n",
    "    def action(self, choice):\n",
    "        #o agente se move apenas na diagonal\n",
    "        if (choice == 0):\n",
    "            self.move(x=1, y=1)\n",
    "        elif (choice == 0):\n",
    "            self.move(x=-1, y=-1)\n",
    "        elif (choice == 0):\n",
    "            self.move(x=-1, y=1)\n",
    "        elif (choice == 0):\n",
    "            self.move(x=1, y=-1)\n",
    "    \n",
    "    def move(self, x=False, y=False):\n",
    "        if not x:\n",
    "            self.x += np.random.randint(-1, 2)\n",
    "        else:\n",
    "            self.x += x\n",
    "        if not y:\n",
    "            self.y += np.random.randint(-1, 2)\n",
    "        else:\n",
    "            self.y += y\n",
    "        if self.x < 0:\n",
    "            self.x = 0\n",
    "        elif self.x > SIZE -1:\n",
    "            self.x = SIZE -1\n",
    "        if self.y < 0:\n",
    "            self.y = 0\n",
    "        elif self.y > SIZE -1:\n",
    "            self.y = SIZE -1\n"
   ]
  },
  {
   "cell_type": "code",
   "execution_count": 10,
   "id": "b32cb933",
   "metadata": {},
   "outputs": [],
   "source": [
    "if start_q_table is None:\n",
    "    q_table = {}\n",
    "    for x1 in range(-SIZE+1, SIZE):\n",
    "        for y1 in range(-SIZE+1, SIZE):\n",
    "            for x2 in range(-SIZE+1, SIZE):\n",
    "                for y2 in range(-SIZE+1, SIZE):\n",
    "                    q_table[((x1,y1),(x2,y2))] = [np.random.uniform(-5,0) for i in range(4)]\n",
    "else:\n",
    "    with open(start_q_table, 'rb') as f:\n",
    "        q_table = pickle.load(f)"
   ]
  },
  {
   "cell_type": "code",
   "execution_count": 11,
   "id": "f50438c2",
   "metadata": {},
   "outputs": [
    {
     "name": "stdout",
     "output_type": "stream",
     "text": [
      "on # 0, epsilon: 0.9\n",
      "3000 ep mean nan\n"
     ]
    },
    {
     "name": "stderr",
     "output_type": "stream",
     "text": [
      "c:\\Users\\windows\\anaconda3\\envs\\ExemploGym\\lib\\site-packages\\numpy\\core\\fromnumeric.py:3440: RuntimeWarning: Mean of empty slice.\n",
      "  return _methods._mean(a, axis=axis, dtype=dtype,\n",
      "c:\\Users\\windows\\anaconda3\\envs\\ExemploGym\\lib\\site-packages\\numpy\\core\\_methods.py:189: RuntimeWarning: invalid value encountered in double_scalars\n",
      "  ret = ret.dtype.type(ret / rcount)\n"
     ]
    },
    {
     "name": "stdout",
     "output_type": "stream",
     "text": [
      "on # 3000, epsilon: 0.49390083359356435\n",
      "3000 ep mean nan\n",
      "on # 6000, epsilon: 0.27104225936046566\n",
      "3000 ep mean -550.3313333333333\n",
      "on # 9000, epsilon: 0.14874221981913022\n",
      "3000 ep mean -513.8325\n",
      "on # 12000, epsilon: 0.08162656262136181\n",
      "3000 ep mean -513.3865555555556\n",
      "on # 15000, epsilon: 0.044794919246742226\n",
      "3000 ep mean -488.6639166666667\n",
      "on # 18000, epsilon: 0.024582497729691496\n",
      "3000 ep mean -465.1526\n",
      "on # 21000, epsilon: 0.01349035124500733\n",
      "3000 ep mean -434.626\n",
      "on # 24000, epsilon: 0.0074032174726434705\n",
      "3000 ep mean -410.09785714285715\n"
     ]
    },
    {
     "data": {
      "image/png": "[encoded data removed]",
      "text/plain": [
       "<Figure size 432x288 with 1 Axes>"
      ]
     },
     "metadata": {},
     "output_type": "display_data"
    }
   ],
   "source": [
    "for episode in range(HM_EPISODES):\n",
    "    player = Blob()\n",
    "    food = Blob()\n",
    "    enemy = Blob()\n",
    "    if episode % SHOW_EVERY == 0:\n",
    "        print(f\"on # {episode}, epsilon: {epsilon}\")\n",
    "        print(f\"{SHOW_EVERY} ep mean {np.mean(episode_rewards[SHOW_EVERY:])}\")\n",
    "        show = True\n",
    "    else:\n",
    "        show = False\n",
    "    \n",
    "    episode_reward = 0\n",
    "    for i in range(200):\n",
    "        obs = (player-food, player-enemy)\n",
    "        if np.random.random() > epsilon:\n",
    "            action = np.argmax(q_table[obs])\n",
    "        else:\n",
    "            action = np.random.randint(0, 4)\n",
    "    \n",
    "        player.action(action)\n",
    "    \n",
    "        ## maybe later\n",
    "        #\n",
    "        #enemy.move()\n",
    "        #food.move()\n",
    "        #\n",
    "        ###############\n",
    "    \n",
    "        if player.x == enemy.x and player.y == enemy.y:\n",
    "            reward = -ENEMY_PENALTY\n",
    "        elif player.x == food.x and player.y == food.y:\n",
    "            reward = FOOD_REWARD\n",
    "        else:\n",
    "            reward = -MOVE_PENALTY\n",
    "\n",
    "        new_obs = (player-food, player-enemy)\n",
    "        max_future_q = np.max(q_table[new_obs])\n",
    "        current_q = q_table[obs][action]\n",
    "\n",
    "        if reward == FOOD_REWARD:\n",
    "            new_q = FOOD_REWARD\n",
    "        elif reward == -ENEMY_PENALTY:\n",
    "            new_q = -ENEMY_PENALTY\n",
    "        else:\n",
    "            new_q = (1 - LEARNING_RATE) * current_q + LEARNING_RATE * (reward + DISCOUNT * max_future_q)\n",
    "\n",
    "        q_table[obs][action] = new_q\n",
    "\n",
    "        if show:\n",
    "            env = np.zeros((SIZE, SIZE, 3), dtype = np.uint8)\n",
    "            env[food.x][food.y] = d[FOOD_N]\n",
    "            env[player.x][player.y] = d[PLAYER_N]\n",
    "            env[enemy.x][enemy.y] = d[ENEMY_N]\n",
    "\n",
    "            img = Image.fromarray(env, \"RGB\")\n",
    "            img = img.resize((300, 300))\n",
    "            cv2.imshow(\"\", np.array(img))\n",
    "            if reward == FOOD_REWARD or reward == ENEMY_PENALTY:\n",
    "                if cv2.waitKey(500) & 0xFF == ord(\"q\"):\n",
    "                    break\n",
    "            else:\n",
    "                if cv2.waitKey(1) & 0xFF == ord(\"q\"):\n",
    "                    break\n",
    "\n",
    "        episode_reward += reward\n",
    "        if reward == FOOD_REWARD or reward == ENEMY_PENALTY:\n",
    "            break\n",
    "        \n",
    "    episode_rewards.append(episode_reward)\n",
    "    epsilon *= EPS_DEACY\n",
    "    \n",
    "    \n",
    "moving_avg = np.convolve(episode_rewards, np.ones((SHOW_EVERY,)) / SHOW_EVERY, mode=\"valid\")\n",
    "plt.plot([i for i in range(len(moving_avg))], moving_avg)\n",
    "plt.ylabel(f\"reward {SHOW_EVERY}ma\")\n",
    "plt.xlabel(\"episode #\")\n",
    "plt.show()\n",
    "\n",
    "with open (f\"qtable-{int(time.time())}.pickle\", \"wb\") as f:\n",
    "    pickle.dump(q_table, f) \n",
    "    \n",
    "cv2.destroyAllWindows()"
   ]
  },
  {
   "cell_type": "code",
   "execution_count": null,
   "id": "a601bcf7",
   "metadata": {},
   "outputs": [],
   "source": []
  }
 ],
 "metadata": {
  "kernelspec": {
   "display_name": "Python 3.8.13 ('ExemploGym')",
   "language": "python",
   "name": "python3"
  },
  "language_info": {
   "codemirror_mode": {
    "name": "ipython",
    "version": 3
   },
   "file_extension": ".py",
   "mimetype": "text/x-python",
   "name": "python",
   "nbconvert_exporter": "python",
   "pygments_lexer": "ipython3",
   "version": "3.8.13"
  },
  "vscode": {
   "interpreter": {
    "hash": "d0ca6e151556840401c8b053f6db653a36df5df87f5318fc105d4847569d9a26"
   }
  }
 },
 "nbformat": 4,
 "nbformat_minor": 5
}
